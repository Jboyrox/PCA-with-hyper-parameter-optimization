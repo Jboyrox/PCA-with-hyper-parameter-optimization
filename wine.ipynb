{
  "cells": [
    {
      "cell_type": "markdown",
      "metadata": {
        "id": "DwFzMVt95v6l"
      },
      "source": [
        "# Lab:  Hyper-Parameter Optimization with PCA\n",
        "\n",
        "PCA is often applied as a pre-processing step with classifiers.  When using PCA in this manner, one must select the number of PC components to use along with parameters in classifier.  In this lab, we will demonstrate how to performing this *hyper-parameter optimization*.  In doing the lab, you will learn to:\n",
        "\n",
        "* Combine PCA with data scaling.\n",
        "* Compute and visualize PC components\n",
        "* Select the number of PCs with K-fold cross validation\n",
        "* Implement the multi-stage classifier pipeline in sklearn\n",
        "* Perform automatic parameter search using `GridSearchCV` in combination with a pipeline.\n",
        "\n",
        "We first download the basic packages."
      ]
    },
    {
      "cell_type": "code",
      "execution_count": 1,
      "metadata": {
        "id": "uHyYzfJj5v6n"
      },
      "outputs": [],
      "source": [
        "import numpy as np\n",
        "import matplotlib\n",
        "import matplotlib.pyplot as plt"
      ]
    },
    {
      "cell_type": "markdown",
      "metadata": {
        "id": "YVdrYA6n5v6n"
      },
      "source": [
        "## Downloading the Data\n",
        "\n",
        "We will use a very simple `wine` dataset, commonly used in teaching machine learning class.  The problem is to classify the type of red wine from features of the wine such as the `alchohol` and other chemical components.  There are three possible wine types."
      ]
    },
    {
      "cell_type": "code",
      "execution_count": 2,
      "metadata": {
        "colab": {
          "base_uri": "https://localhost:8080/"
        },
        "id": "irwAZIDC5v6o",
        "outputId": "d1fb2388-1ea6-4165-e4d1-dfcfeaced1d4"
      },
      "outputs": [
        {
          "output_type": "stream",
          "name": "stderr",
          "text": [
            "<frozen importlib._bootstrap>:219: RuntimeWarning: scipy._lib.messagestream.MessageStream size changed, may indicate binary incompatibility. Expected 56 from C header, got 64 from PyObject\n"
          ]
        },
        {
          "output_type": "stream",
          "name": "stdout",
          "text": [
            "['alcohol', 'malic_acid', 'ash', 'alcalinity_of_ash', 'magnesium', 'total_phenols', 'flavanoids', 'nonflavanoid_phenols', 'proanthocyanins', 'color_intensity', 'hue', 'od280/od315_of_diluted_wines', 'proline']\n",
            "['class_0' 'class_1' 'class_2']\n"
          ]
        }
      ],
      "source": [
        "from sklearn.datasets import load_wine\n",
        "from sklearn.model_selection import KFold\n",
        "data = load_wine()\n",
        "\n",
        "# TODO 1: print the features names in data.feature_names and data.target_names\n",
        "print(data.feature_names)\n",
        "print(data.target_names)"
      ]
    },
    {
      "cell_type": "markdown",
      "metadata": {
        "id": "n8SlBvtN5v6o"
      },
      "source": [
        "Get the data matrix `X` from `data.data` and the target values `y` from `data.target`.  Print the number of samples, number of features and number of classes."
      ]
    },
    {
      "cell_type": "code",
      "execution_count": 3,
      "metadata": {
        "colab": {
          "base_uri": "https://localhost:8080/"
        },
        "id": "WE5oUKK55v6o",
        "outputId": "4eb2342b-fd30-4f38-ad48-bb2e32d3a30a"
      },
      "outputs": [
        {
          "output_type": "stream",
          "name": "stdout",
          "text": [
            "num samples = 178\n",
            "num features = 13\n",
            "num classeses = 3\n"
          ]
        }
      ],
      "source": [
        "# TODO 2:\n",
        "#    X = ...\n",
        "#    y = ...\n",
        "X = data.data\n",
        "y = data.target\n",
        "nsamp, nfeatures = X.shape\n",
        "nclass = np.max(y) + 1\n",
        "print('num samples = %d' % nsamp) \n",
        "print('num features = %d' % nfeatures) \n",
        "print('num classeses = %d' % nclass)"
      ]
    },
    {
      "cell_type": "markdown",
      "metadata": {
        "id": "uuPDhuX85v6o"
      },
      "source": [
        "## Perform PCA for Visualization\n",
        "\n",
        "Before performing PCA, you should scale the data matrix to remove the mean and normalize the variance of the different components.  For this purpose, create a `StandardScaling` object `scaling`.  Then `fit` the scaling with the entire data `X`.  Transform the data and let `Xs` be the scaled data."
      ]
    },
    {
      "cell_type": "code",
      "execution_count": 4,
      "metadata": {
        "id": "c-O2ir5D5v6o"
      },
      "outputs": [],
      "source": [
        "from sklearn.preprocessing import StandardScaler\n",
        "\n",
        "# TODO 3:\n",
        "# scaling = ...\n",
        "# scaling.fit(...)\n",
        "# Xs = ...\n",
        "scaling = StandardScaler() \n",
        "scaling.fit(X)\n",
        "Xs = scaling.transform(X)"
      ]
    },
    {
      "cell_type": "markdown",
      "metadata": {
        "id": "zhbaZtQ35v6p"
      },
      "source": [
        "Now, fit a PCA on the scaled data matrix `Xs`.  You can use the `sklearn` `PCA` method.  In order that we can visualize the results set `n_components=2`.  Select `svd_solver='randomized'` and `whiten=True`.  Use the the `pca.transform` method to find, `Z`, the coefficients of `Xs` in the PCA basis."
      ]
    },
    {
      "cell_type": "code",
      "execution_count": 5,
      "metadata": {
        "id": "MoMc-gIq5v6p"
      },
      "outputs": [],
      "source": [
        "from sklearn.decomposition import PCA\n",
        "\n",
        "# TODO 4:\n",
        "# ncomp = 2\n",
        "# pca = PCA(...)\n",
        "# Z = ...\n",
        "ncomp = 2\n",
        "pca = PCA(n_components=ncomp,\n",
        "svd_solver='randomized', whiten=True) \n",
        "pca.fit(Xs)\n",
        "Z = pca.transform(Xs)\n",
        "\n",
        "# Construct the PCA object"
      ]
    },
    {
      "cell_type": "markdown",
      "metadata": {
        "id": "hpTOOHwr5v6p"
      },
      "source": [
        "In the transformed basis, each data sample is represented by a two dimensional vector, `Z[i,0], Z[i,1]`.  Plot a scatter plot of the transformed data.  Use different marker colors for the different classes.  If you did everything, you should see that the classes are quite well separated with even two PCs."
      ]
    },
    {
      "cell_type": "code",
      "execution_count": 6,
      "metadata": {
        "colab": {
          "base_uri": "https://localhost:8080/",
          "height": 297
        },
        "id": "RpapZ4qv5v6p",
        "outputId": "ebb2c1ac-96de-4cad-9e08-e22b6f3afdf5"
      },
      "outputs": [
        {
          "output_type": "execute_result",
          "data": {
            "text/plain": [
              "Text(0, 0.5, 'PC 1')"
            ]
          },
          "metadata": {},
          "execution_count": 6
        },
        {
          "output_type": "display_data",
          "data": {
            "text/plain": [
              "<Figure size 432x288 with 1 Axes>"
            ],
            "image/png": "[encoded data removed]"
          },
          "metadata": {
            "needs_background": "light"
          }
        }
      ],
      "source": [
        "# TODO 5:\n",
        "# plt.scatter(...)\n",
        "plt.scatter(Z[:,0], Z[:,1], c=y) \n",
        "plt.grid()\n",
        "plt.xlabel('PC 0') \n",
        "plt.ylabel('PC 1')"
      ]
    },
    {
      "cell_type": "markdown",
      "metadata": {
        "id": "TK8xtrE_5v6p"
      },
      "source": [
        "Now, refit the scaled data `Xs` using `n_components=nfeatures` where `nfeatures` is the number of features.  This is the maximum number of PCs.  Get the singular values from `pca.singular_values_` and plot the portion of variation as a function of the number of PCs.   The PoV for using `n` PCs is:\n",
        "\n",
        "    PoV[n]  = \\sum_{i=0}^{n-1}  s[i]**2 / \\sum_{i=0}^{d-1}  s[i]**2\n",
        "    \n",
        "where `s[i]` is the `i`-th singular value and `d` is the number of features.  You should see that the 4 PCs contains more than 70% of the variance."
      ]
    },
    {
      "cell_type": "code",
      "execution_count": 7,
      "metadata": {
        "colab": {
          "base_uri": "https://localhost:8080/",
          "height": 279
        },
        "id": "XWD5LJ_n5v6q",
        "outputId": "16bba7c6-60be-4f1c-a8e3-e17942d93d98"
      },
      "outputs": [
        {
          "output_type": "display_data",
          "data": {
            "text/plain": [
              "<Figure size 432x288 with 1 Axes>"
            ],
            "image/png": "[encoded data removed]"
          },
          "metadata": {
            "needs_background": "light"
          }
        }
      ],
      "source": [
        "# TODO 6:\n",
        "pca = PCA( svd_solver='randomized', whiten=True) \n",
        "pca.fit(Xs)\n",
        "s = pca.singular_values_**2\n",
        "pov = np.cumsum(s)/np.sum(s)\n",
        "numpc = np.arange(1,nfeatures+1) \n",
        "plt.plot(numpc,pov,'o-')\n",
        "plt.xlabel('Num PCs')\n",
        "plt.ylabel('PoV')\n",
        "plt.grid()"
      ]
    },
    {
      "cell_type": "markdown",
      "metadata": {
        "id": "TR2paJMG5v6q"
      },
      "source": [
        "## Using PCA with Classification \n",
        "\n",
        "We will now use data scaling and PCA as a pre-processing step for logistic classification.  The number of PCs to use can be found with cross-validation.  Complete the code below which tries different number of PCs components to use and measures the test accuracy for each value."
      ]
    },
    {
      "cell_type": "code",
      "execution_count": 8,
      "metadata": {
        "id": "G_9dPeon5v6q"
      },
      "outputs": [],
      "source": [
        "from sklearn.preprocessing import StandardScaler\n",
        "from sklearn.linear_model import LogisticRegression\n",
        "nfold = 5\n",
        "\n",
        "# Create a K-fold object\n",
        "kf = KFold(n_splits=nfold)\n",
        "kf.get_n_splits(X)\n",
        "\n",
        "# Number of PCs to try\n",
        "ncomp_test = np.arange(2,12)\n",
        "num_nc = len(ncomp_test)\n",
        "\n",
        "# Accuracy:  acc[icomp,ifold]  is test accuracy when using `ncomp = ncomp_test[icomp]` in fold `ifold`.\n",
        "acc = np.zeros((num_nc,nfold))\n",
        "\n",
        "\n",
        "# ==============\n",
        "# TODO 7:(combined all)\n",
        "\n",
        "# Loop over number of components to test\n",
        "for icomp, ncomp in enumerate(ncomp_test):\n",
        "    \n",
        "    # Look over the folds\n",
        "    for ifold, I in enumerate(kf.split(X)):\n",
        "        Itr, Its = I\n",
        "\n",
        "        # TODO:  Split data into training \n",
        "        # Xtr, Xts, ytr, yts = ...\n",
        "        Xtr = X[Itr]\n",
        "        Xts = X[Its]\n",
        "        ytr = y[Itr]\n",
        "        yts = y[Its]\n",
        "\n",
        "        # TODO:  Create a scaling object and fit the scaling on the training data\n",
        "        scaling = StandardScaler()\n",
        "        scaling.fit(Xtr)\n",
        "        Xtrs = scaling.transform(Xtr)\n",
        "\n",
        "        # TODO:  Fit the PCA on the scaled training data\n",
        "        pca = PCA(n_components=ncomp)\n",
        "        pca.fit(Xtrs)\n",
        "        Ztr = pca.transform(Xtrs)\n",
        "\n",
        "        # TODO:  Train a classifier on the transformed training data\n",
        "        # Use a logistic regression classifier\n",
        "        #   logreg = LogisticRegression(multi_class='auto', solver='lbfgs')\n",
        "        logreg = LogisticRegression(multi_class='auto', solver='lbfgs') \n",
        "        logreg.fit(Ztr,ytr)\n",
        "\n",
        "        # TODO:  Transform the test data through data scaler and PCA\n",
        "        Xtss = scaling.transform(Xts)\n",
        "        Zts = pca.transform(Xtss)\n",
        "\n",
        "        # TODO:  Predict the labels the test data\n",
        "        yhat = logreg.predict(Zts)\n",
        "        # TODO:  Measure the accuracy \n",
        "        #    acc[icomp, ifold] = ...\n",
        "        acc[icomp, ifold] = np.mean(yhat == yts)\n"
      ]
    },
    {
      "cell_type": "markdown",
      "metadata": {
        "id": "og-gjuKF5v6q"
      },
      "source": [
        "Use the `plt.errorbar` function to plot the mean accuracy with error bars corresponding to the standard error of the accuracy as a function of the number of components.  Find the optimal number of PCs to use according to the normal rule and one SE rule.  If you did it correctly, you should get an accuracy of around 96%."
      ]
    },
    {
      "cell_type": "code",
      "execution_count": 9,
      "metadata": {
        "colab": {
          "base_uri": "https://localhost:8080/",
          "height": 350
        },
        "id": "KPDqHtxa5v6r",
        "outputId": "1e241d7d-caed-4444-bc09-2e39a7b8a2e7"
      },
      "outputs": [
        {
          "output_type": "stream",
          "name": "stdout",
          "text": [
            "Optimal number of PCs (normal rule) = 7\n",
            "Best test accuracy =  0.9610\n",
            "Optimal number of PCs (one SE) = 7\n",
            "Best test accuracy =  0.9610\n"
          ]
        },
        {
          "output_type": "display_data",
          "data": {
            "text/plain": [
              "<Figure size 432x288 with 1 Axes>"
            ],
            "image/png": "[encoded data removed]"
          },
          "metadata": {
            "needs_background": "light"
          }
        }
      ],
      "source": [
        "# TODO 8: (Combined all)\n",
        "# acc_mean = ...\n",
        "# acc_se = ...\n",
        "# plt.errorbar(...)\n",
        "acc_mean = np.mean(acc, axis=1)\n",
        "acc_se = np.std(acc, axis=1) / np.sqrt(nfold-1) \n",
        "plt.errorbar(ncomp_test, acc_mean, yerr=acc_se) \n",
        "plt.grid()\n",
        "plt.xlabel('Num PCs')\n",
        "plt.ylabel('Test accuracy')\n",
        "# TODO:  Optimal order with the normal rule\n",
        "im = np.argmax(acc_mean)\n",
        "print('Optimal number of PCs (normal rule) = %d' % (ncomp_test[im])) \n",
        "print('Best test accuracy = %7.4f' % acc_mean[im])\n",
        "\n",
        "# TODO:  Optimal order with one SE rule\n",
        "acc_tgt = acc_mean[im] - acc_se[im]\n",
        "I = np.where(acc_mean >= acc_tgt)[0]\n",
        "ise = I[0]\n",
        "print('Optimal number of PCs (one SE) = %d' % (ncomp_test[ise])) \n",
        "print('Best test accuracy = %7.4f' % acc_mean[ise])"
      ]
    },
    {
      "cell_type": "markdown",
      "metadata": {
        "id": "v3u8yrA85v6r"
      },
      "source": [
        "## Hyper-Parameter Optimization with GridCV.\n",
        "\n",
        "We will now try a more complex classifier -- a support vector classifier with a radial basis function.  When we use such a classifer, there will be a number of parameters to tune.  When the number of parameters to tune becomes large, writing a loop over multiple parameters as we did above becomes cumbersome.  The `sklearn` package has a very nice routine, `GridSearchCV` to perform this sort of parameter search.  \n",
        "\n",
        "Before, we do this we need to create an estimator `Pipeline`.  An estimator pipeline is a sequence of transformations followed by an estimator that will operate on the transformed data.  Create the following pipeline:\n",
        "\n",
        "*  Create a `StandardScaler()` object called `scaler` for the first transformation\n",
        "*  Create a `PCA()` object called `pca` for the second transformation\n",
        "*  Create a `SVC()` object called `svc` for the final SVM classifier.  Set the parameter `kernel='rbf'`.\n",
        "\n",
        "Once you have the three steps defined, you can create the pipeline with the command:\n",
        "    \n",
        "    pipe = Pipeline(steps=[('scaler', scaler), ('pca', pca), ('svc', svc)])"
      ]
    },
    {
      "cell_type": "code",
      "execution_count": 10,
      "metadata": {
        "id": "OLGEHckK5v6r"
      },
      "outputs": [],
      "source": [
        "from sklearn.pipeline import Pipeline\n",
        "from sklearn.model_selection import GridSearchCV\n",
        "from sklearn.svm import SVC\n",
        "\n",
        "# TODO 9:\n",
        "# scaler = ...\n",
        "# pca = ...\n",
        "# svc = ...\n",
        "# pipe = Pipeline(steps=[('scaler', scaler), ('pca', pca), ('svc', svc)])\n",
        "scaler = StandardScaler()\n",
        "pca = PCA()\n",
        "svc = SVC(kernel='rbf')\n",
        "pipe = Pipeline(steps=[('scaler', scaler), ('pca', pca), ('svc', svc)])"
      ]
    },
    {
      "cell_type": "markdown",
      "metadata": {
        "id": "5i3TDb165v6r"
      },
      "source": [
        "We next define all the parameters that we want to search over.  Define the following arrays:\n",
        "\n",
        "*  `ncomp_test`:  values from 3 to 10 representing number of PCs to test\n",
        "*  `C_test`:  values of `C` in the SVC to test.  Use `10^{-2}, 10^{-1}, ... ,10^{3}` \n",
        "*  `gam_test`:  values of `gamma` in the SVC to test.  Use `10^{-3}, 10^{-2}, ... ,10^{1}` "
      ]
    },
    {
      "cell_type": "code",
      "execution_count": 11,
      "metadata": {
        "id": "bQhDPVa15v6s"
      },
      "outputs": [],
      "source": [
        "# TODO 10:\n",
        "# ncomp_test = ...\n",
        "# c_test = ...\n",
        "# gam_test = ...\n",
        "ncomp_test = np.arange(3,10) \n",
        "c_test = np.logspace(-2,3,6) \n",
        "gam_test = np.logspace(-3,1,5)"
      ]
    },
    {
      "cell_type": "markdown",
      "metadata": {
        "id": "2suQ8Umx5v6s"
      },
      "source": [
        "Next, we create a dictionary `params` of the form:\n",
        "\n",
        "    params =  {'pca__n_components': ncomp_test, 'svc__C' : c_test, ...}\n",
        "    \n",
        "Each key in the dictionary is the of the form `estimator__param` and the value is the values to be tested."
      ]
    },
    {
      "cell_type": "code",
      "execution_count": 12,
      "metadata": {
        "id": "vLfXdQBU5v6s"
      },
      "outputs": [],
      "source": [
        "# TODO 11:\n",
        "# params = ...\n",
        "params = {'pca__n_components': ncomp_test, 'svc__C' : c_test, 'svc__gamma': gam_test}"
      ]
    },
    {
      "cell_type": "markdown",
      "metadata": {
        "id": "tBaSUKZX5v6s"
      },
      "source": [
        "Finally, an object `estimator = GridSearchCV(...)` from  `pipe` and `params`.  Set `cv=5`, `train_score=True` and `iid=False`.  Fit the estimator from the data `X,y`.  Then the estimator will perform the cross-validation over all the parameters.  This may take a minute since we are search over so many parameters."
      ]
    },
    {
      "cell_type": "code",
      "execution_count": 13,
      "metadata": {
        "colab": {
          "base_uri": "https://localhost:8080/"
        },
        "id": "Egxx-7aN5v6s",
        "outputId": "946d3f96-6fbb-4cd1-a699-7a3299d36ae9"
      },
      "outputs": [
        {
          "output_type": "stream",
          "name": "stderr",
          "text": [
            "/usr/local/lib/python3.8/dist-packages/sklearn/model_selection/_search.py:847: FutureWarning: The parameter 'iid' is deprecated in 0.22 and will be removed in 0.24.\n",
            "  warnings.warn(\n"
          ]
        },
        {
          "output_type": "execute_result",
          "data": {
            "text/plain": [
              "GridSearchCV(cv=5,\n",
              "             estimator=Pipeline(steps=[('scaler', StandardScaler()),\n",
              "                                       ('pca', PCA()), ('svc', SVC())]),\n",
              "             iid=False,\n",
              "             param_grid={'pca__n_components': array([3, 4, 5, 6, 7, 8, 9]),\n",
              "                         'svc__C': array([1.e-02, 1.e-01, 1.e+00, 1.e+01, 1.e+02, 1.e+03]),\n",
              "                         'svc__gamma': array([1.e-03, 1.e-02, 1.e-01, 1.e+00, 1.e+01])},\n",
              "             return_train_score=True)"
            ]
          },
          "metadata": {},
          "execution_count": 13
        }
      ],
      "source": [
        "# TODO 12:\n",
        "# estimator = GridSearchCV(...)\n",
        "# estimator.fit(...)\n",
        "estimator=GridSearchCV(pipe,params,cv=5,return_train_score=True,iid=False)\n",
        "#estimator=GridSearchCV(pipe,params,cv=5,return_train_score=True,iid=False) \n",
        "estimator.fit(X,y)"
      ]
    },
    {
      "cell_type": "markdown",
      "metadata": {
        "id": "6waXZqnu5v6s"
      },
      "source": [
        "Print the best test score and best parameters.  They are fields in `estimator`.  If you did it correctly, it should be a little higher than the logistic regression (about 0.97 to 0.98 accuracy)."
      ]
    },
    {
      "cell_type": "code",
      "execution_count": 14,
      "metadata": {
        "colab": {
          "base_uri": "https://localhost:8080/"
        },
        "id": "TosDvqiQ5v6s",
        "outputId": "f574b2f9-d4f8-4dc7-d48a-ae7acd55db62"
      },
      "outputs": [
        {
          "output_type": "stream",
          "name": "stdout",
          "text": [
            "Best test accuracy   0.978\n",
            "Best params: {'pca__n_components': 5, 'svc__C': 1.0, 'svc__gamma': 0.1}\n"
          ]
        }
      ],
      "source": [
        "# TODO 13:\n",
        "print('Best test accuracy %7.3f' % estimator.best_score_) \n",
        "print('Best params: %s' % str(estimator.best_params_))\n"
      ]
    },
    {
      "cell_type": "markdown",
      "metadata": {
        "id": "j_27P7SA5v6s"
      },
      "source": [
        "Finally, you can get the test score for all the parameter choices from \n",
        "\n",
        "    test_score = estimator.cv_results_['mean_test_score']\n",
        "    \n",
        "Use the `imshow` command to plot the mean test score over `gamma` and `C` for the value `n_components=5`."
      ]
    },
    {
      "cell_type": "markdown",
      "source": [],
      "metadata": {
        "id": "uAstEd42KaF-"
      }
    },
    {
      "cell_type": "code",
      "execution_count": 15,
      "metadata": {
        "colab": {
          "base_uri": "https://localhost:8080/",
          "height": 279
        },
        "id": "vCZO8RFS5v6t",
        "outputId": "0ff268b3-18e6-4f3c-ed91-ec5e2047dea6"
      },
      "outputs": [
        {
          "output_type": "display_data",
          "data": {
            "text/plain": [
              "<Figure size 432x288 with 2 Axes>"
            ],
            "image/png": "[encoded data removed]"
          },
          "metadata": {
            "needs_background": "light"
          }
        }
      ],
      "source": [
        "# TODO 14:\n",
        "test_score = estimator.cv_results_['mean_test_score']\n",
        "num_nc = len(ncomp_test)\n",
        "num_c = len(c_test)\n",
        "num_gam = len(gam_test)\n",
        "test_score = test_score.reshape((num_nc, num_c, num_gam))\n",
        "i = np.where(ncomp_test == 5)[0][0]\n",
        "plt.imshow(test_score[i,:,:], aspect='auto', cmap='Reds')\n",
        "plt.ylabel('C')\n",
        "plt.xlabel('gamma')\n",
        "plt.colorbar()\n",
        "ax = plt.gca()\n",
        "ax.set_yticks(np.arange(0,num_c))\n",
        "ax.set_yticklabels(c_test)\n",
        "ax.set_xticks(np.arange(0,num_gam))\n",
        "_ = ax.set_xticklabels(gam_test)"
      ]
    },
    {
      "cell_type": "code",
      "execution_count": 15,
      "metadata": {
        "id": "4weU9ILn5v6t"
      },
      "outputs": [],
      "source": []
    },
    {
      "cell_type": "code",
      "execution_count": 15,
      "metadata": {
        "id": "gJePE8t75v6t"
      },
      "outputs": [],
      "source": []
    }
  ],
  "metadata": {
    "kernelspec": {
      "display_name": "Python 3",
      "language": "python",
      "name": "python3"
    },
    "language_info": {
      "codemirror_mode": {
        "name": "ipython",
        "version": 3
      },
      "file_extension": ".py",
      "mimetype": "text/x-python",
      "name": "python",
      "nbconvert_exporter": "python",
      "pygments_lexer": "ipython3",
      "version": "3.8.5"
    },
    "colab": {
      "provenance": []
    }
  },
  "nbformat": 4,
  "nbformat_minor": 0
}